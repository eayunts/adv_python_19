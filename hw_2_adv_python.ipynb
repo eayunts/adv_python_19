{
 "cells": [
  {
   "cell_type": "markdown",
   "metadata": {},
   "source": [
    "### Сторонние библиотеки использовать нельзя"
   ]
  },
  {
   "cell_type": "markdown",
   "metadata": {},
   "source": [
    "### Задача 0 [Библиотека] (0.15 балла)  \n",
    "\n",
    "**Условие:** \n",
    "\n",
    "\n",
    "В библиотеке хранятся книги и журналы. У каждой сущности есть общие характеристики, такие как: название, автор, жанр, число страниц, формат страниц, индекс редкости (от 1 до 10) и текст. Также у разных сущностей могут быть свои атрибуты. Хочется все редкие издания (индекс 9 или 10) дополнительно сохранять в некое хранилище (пусть json-файл), а также хочется понимать какую площадь занимает издание, если разложить все его страницы на полу.     \n",
    "\n",
    "\n",
    "**Комментарий:**\n",
    "\n",
    "Это задача с семинара на организацию иерархии классов. Идея в том, что нужно разделять сущности в зависимости от их применения. Например, есть книга как некий абстрактный объект, а есть библиотечная книга, у которой есть свои особенности. Также для сохранения книг в json нужно использвать классы-примеси.\n",
    "\n",
    "\n",
    "Иерархия классов:"
   ]
  },
  {
   "cell_type": "code",
   "execution_count": 1,
   "metadata": {},
   "outputs": [],
   "source": [
    "import json\n",
    "import warnings\n",
    "\n",
    "PAGES_FORMAT = {\n",
    "    'A1': (2048, 1024),\n",
    "    'A2': (1024, 512),\n",
    "    'A3': (420, 297),\n",
    "    'A4': (297, 210),\n",
    "    'A5': (210, 148),\n",
    "    'A6': (148, 105)\n",
    "}\n",
    "class ReadableEntity:\n",
    "    \"\"\"\n",
    "    Basic properties for any readable object\n",
    "    \"\"\"\n",
    "    def __init__(self, title, author, genre, pages, page_format, rareness, content):\n",
    "        self.book_title = title\n",
    "        self.author = author\n",
    "        self.genre = genre\n",
    "        self.pages = pages\n",
    "        self.page_format = page_format\n",
    "        self.rareness = rareness\n",
    "        self.content = content \n",
    "        if self.page_format in PAGES_FORMAT:     \n",
    "            self.page_size = PAGES_FORMAT[page_format]\n",
    "        else:\n",
    "            warnings.warn('No such page format in dictionary, default A5 page size is used', Warning)\n",
    "            self.page_size = PAGES_FORMAT['A5']\n",
    "         \n",
    "    \n",
    "    @property\n",
    "    def pages_area(self):        \n",
    "        return self.page_size[0] * self.page_size[1] * self.pages\n",
    "\n",
    "class Journal(ReadableEntity):\n",
    "    \"\"\"\n",
    "    Has all basic readable objects features plus the ones specific for journals like volume, language, year\n",
    "    \"\"\"\n",
    "    def __init__(self,  title, author, genre, pages, page_format, rareness, content, volume, year, language):\n",
    "        ReadableEntity.__init__(self, title, genre, pages, page_format, rareness, content)\n",
    "        self.volume = volume\n",
    "        self.year = year\n",
    "        self.language = language\n",
    "\n",
    "\n",
    "class Book(ReadableEntity):\n",
    "    \"\"\"\n",
    "    Has all basic readable objects features plus the ones specific for journals like edition, language, publisher, year\n",
    "    \"\"\"\n",
    "    def __init__(self,  title, author, genre, pages, page_format, rareness, content, year,publisher, edition, language):\n",
    "        ReadableEntity.__init__(self, title,author, genre, pages, page_format, rareness, content)       \n",
    "        self.year = year\n",
    "        self.publisher = publisher\n",
    "        self.edition = edition\n",
    "        self.language = language\n",
    "\n",
    "\n",
    "class Exporter:   \n",
    "    def __init__(self, rareness, path):        \n",
    "        if rareness > 8:\n",
    "            self.dump_json(path)\n",
    "            \n",
    "    def dump_json(self, path):        \n",
    "        with open(path, 'w') as f:            \n",
    "            json.dump(self.__dict__, f)\n",
    "            \n",
    "class LibraryAttribtutes:  \n",
    "    \"\"\"\n",
    "    Library object is present is some quantity and can be given to people or be returned.\n",
    "    \"\"\"\n",
    "    def __init__(self, shelf, quantity):   \n",
    "        self.quantity = quantity\n",
    "        self.shelf = shelf    \n",
    "    \n",
    "    def giveout(self):\n",
    "        if self.quantity > 0:\n",
    "            self.quantity -= 1\n",
    "            return self\n",
    "        else: \n",
    "            raise Exception(\"All book's copies are in hand\")\n",
    "\n",
    "    def takeback(self):\n",
    "        self.quantity += 1 \n",
    "        return self\n",
    "        \n",
    "class LibraryJournal(Journal, Exporter, LibraryAttribtutes):\n",
    "    def __init__(self, title,author, genre, pages, page_format, rareness, content, volume, year, language,\n",
    "                store_loc,shelf, quantity = 1):\n",
    "        Journal.__init__(self, title,author, genre, pages, page_format, rareness, content, volume, year, language)        \n",
    "        \n",
    "        Exporter.__init__(self, rareness, store_loc)\n",
    "        LibraryAttribtutes.__init__(self, shelf, quantity)\n",
    "\n",
    "class LibraryBook(Book, Exporter, LibraryAttribtutes):\n",
    "    def __init__(self, title,author, genre, pages, page_format,\n",
    "                 rareness, content, year, publisher, edition,\n",
    "                 language, store_loc, shelf, quantity = 1):\n",
    "        Book.__init__(self, title,author, genre, pages, page_format, rareness, content, year, publisher, edition, language) \n",
    "        Exporter.__init__(self, rareness, store_loc)\n",
    "        LibraryAttribtutes.__init__(self, shelf, quantity)\n",
    "        \n",
    "   "
   ]
  },
  {
   "cell_type": "code",
   "execution_count": 2,
   "metadata": {},
   "outputs": [],
   "source": [
    "title = 'Lorem Ipsum'\n",
    "author = 'Ipsum Lorem'\n",
    "genre = 'loresius ipsumius'\n",
    "pages = 491\n",
    "rareness = 9\n",
    "content = 'Lorep Ipsum' * pages\n",
    "page_format = 'A5'\n",
    "year = 1535\n",
    "publisher = \"Gutenberg Wiley and O'Reily\"\n",
    "edition = '2nd'\n",
    "language = 'ENG'\n",
    "quantity = 1\n",
    "store_loc = f\"{title}, {author}, {edition} backup\"\n",
    "shelf = 'B16'\n"
   ]
  },
  {
   "cell_type": "code",
   "execution_count": 3,
   "metadata": {},
   "outputs": [
    {
     "name": "stdout",
     "output_type": "stream",
     "text": [
      "1\n",
      "0\n",
      "1\n"
     ]
    }
   ],
   "source": [
    "book = LibraryBook(title,author, genre, pages, page_format,\n",
    "                 rareness, content, year, publisher, edition,\n",
    "                 language, store_loc, shelf, quantity = 1 )\n",
    "print(book.quantity)\n",
    "book.giveout()\n",
    "print(book.quantity)\n",
    "book.takeback()\n",
    "print(book.quantity)"
   ]
  },
  {
   "cell_type": "code",
   "execution_count": 4,
   "metadata": {},
   "outputs": [
    {
     "data": {
      "text/plain": [
       "((210, 148), 15260280)"
      ]
     },
     "execution_count": 4,
     "metadata": {},
     "output_type": "execute_result"
    }
   ],
   "source": [
    "book.page_size, book.pages_area"
   ]
  },
  {
   "cell_type": "markdown",
   "metadata": {},
   "source": [
    "### Задача 1 [Размер объектов] (0 - 0.15 балла)  \n",
    "\n",
    "**Условие:** \n",
    "\n",
    "Написать функцию получения реального объема занимаемой объектом памяти объектом. \n",
    "\n",
    "\n",
    "1) Для int, str, list, tuple, dict **(0.05 балла)**\n",
    "\n",
    "2) Для всех типов **(+0.1 балла)**\n",
    "\n",
    "\n",
    "**Комментарий:**\n",
    "\n",
    "На занятиях не раз говорилось, что `sys.getsizeof` умеет находить размер простых объектов, но если речь идет об объектах, вроде list, то функция вернет не совсем то, что может ожидать разработчик, потому что список хранит указатели на объекты. \n",
    "\n",
    "*Пример:*\n",
    "```\n",
    "sys.getsizeof([]) == 64\n",
    "sys.getsizeof(['aaaaaaa']) == 72\n",
    "```\n",
    "Но\n",
    "```\n",
    "sys.getsizeof('aaaaaaa') == 56\n",
    "```\n"
   ]
  },
  {
   "cell_type": "code",
   "execution_count": 5,
   "metadata": {},
   "outputs": [],
   "source": [
    "import sys\n",
    "from gc import get_referents\n",
    "\n",
    "def getrealsize(x):\n",
    "    \"\"\"\n",
    "    Returns real size of object (excl. type objects)\n",
    "    \"\"\"\n",
    "    total_size, already_checked, objects_to_check = 0, set(), []\n",
    "    objects_to_check.append(x)\n",
    "    while len(objects_to_check) > 0:\n",
    "        for _object in objects_to_check:\n",
    "            if id(_object) in already_checked or isinstance(_object, type):   \n",
    "                objects_to_check.remove(_object)\n",
    "            else:\n",
    "                total_size += sys.getsizeof(_object)\n",
    "                already_checked.add(id(_object))\n",
    "                objects_to_check += get_referents(_object)   \n",
    "                objects_to_check.remove(_object)\n",
    "    return total_size"
   ]
  },
  {
   "cell_type": "code",
   "execution_count": 6,
   "metadata": {},
   "outputs": [
    {
     "data": {
      "text/plain": [
       "(128, 56, 64)"
      ]
     },
     "execution_count": 6,
     "metadata": {},
     "output_type": "execute_result"
    }
   ],
   "source": [
    "getrealsize(['aaaaaaa']), getrealsize('aaaaaaa'), getrealsize([])"
   ]
  },
  {
   "cell_type": "code",
   "execution_count": 7,
   "metadata": {},
   "outputs": [
    {
     "data": {
      "text/plain": [
       "(50, 51, 52)"
      ]
     },
     "execution_count": 7,
     "metadata": {},
     "output_type": "execute_result"
    }
   ],
   "source": [
    "getrealsize('a'), getrealsize('aa'), getrealsize('aaa')"
   ]
  },
  {
   "cell_type": "markdown",
   "metadata": {},
   "source": [
    "### Задача 2 [Многочлены] (0.64 балла)\n",
    "\n",
    "**Условие:**\n",
    "\n",
    "Реализовать класс многочлена. Определить операции:\n",
    "\n",
    "1) *сложения* - **(0.02 балла)**\n",
    "\n",
    "2) *вычитания* - **(0.02 балла)**\n",
    "\n",
    "3) *умножения* - **(0.04 балла)**\n",
    "\n",
    "3a) *быстрого умножения* (алгоритм Карацубы или быстрое преобразование Фурье) - **(+0.25 балла)**\n",
    "\n",
    "4) *деления* - **(0.05 балла)**\n",
    "\n",
    "5) *возведения в степень* - **(0.02 балла)** | *возведения в степень* через быстрое возведение в степень за log - **(0.04 балла)**\n",
    "\n",
    "6) *представления многочлена в человеческом виде* - **(0.02 балла)**\n",
    "\n",
    "7) *дифференцирования* - **(0.05 балла)**\n",
    "\n",
    "8) *интегрирования* - **(0.05 балла)**\n",
    "\n",
    "9) Вызова многочлена как функции (вычисление значения в точке) - **(0.03 балла)**\n",
    "\n",
    "**Комментарии:**\n",
    "\n",
    "Для комплексных коэффициентов **(0.01 балла)** к каждому пункту.\n",
    "\n",
    "Операции с числами также должны работать."
   ]
  },
  {
   "cell_type": "code",
   "execution_count": 8,
   "metadata": {},
   "outputs": [],
   "source": [
    "# import operator\n",
    "from cmath import exp\n",
    "from math import pi\n",
    "\n",
    "        \n",
    "class Polynomial:\n",
    "    \n",
    "    def __init__(self, *coefficients):\n",
    "        \"\"\" input: coefficients are in the form a_0, a_1,... a_n \n",
    "        \"\"\"\n",
    "        self.coefficients = list(coefficients) \n",
    "            \n",
    "    @property\n",
    "    def degree(self):\n",
    "        return len(self.coefficients)\n",
    "    \n",
    "    def normalize(self, degree):\n",
    "        while len(self.coefficients) < degree:\n",
    "            self.coefficients.append(0)                      \n",
    "    \n",
    "    def __add__(self, another):           \n",
    "\n",
    "        max_degree = max(self.degree, another.degree)\n",
    "        self.normalize(max_degree)\n",
    "        another.normalize(max_degree)\n",
    "\n",
    "        new_coefs = [x + y for x, y in zip(another.coefficients, self.coefficients)] \n",
    "        return Polynomial(*new_coefs)\n",
    "    \n",
    "    def __neg__(self):\n",
    "        \"Return -self\"\n",
    "        return Polynomial(*[-i for i in self.coefficients])\n",
    "    \n",
    "    def __eq__(self, other):\n",
    "        \n",
    "        if isinstance(other, Polynomial):\n",
    "            x = [round(i,4) for i in self.coefficients]\n",
    "            y = [round(i,4) for i in other.coefficients]\n",
    "            return x == y\n",
    "        else:\n",
    "            return self.coefficients == [other]\n",
    "    \n",
    "    \n",
    "    def __sub__(self, another):                         \n",
    "        return -another + self          \n",
    "    \n",
    "    def __mul__(self, another):\n",
    "        \"\"\" \n",
    "        Just coefficient-wise multiplication of O(n^2) complexity\n",
    "        \"\"\"            \n",
    "\n",
    "        coeffs = {i:0 for i in range(len(self.coefficients)+ len(another.coefficients))}  \n",
    "\n",
    "        for index, ivalue in enumerate(self.coefficients):\n",
    "            for jndex, jvalue in enumerate(another.coefficients):\n",
    "                coeffs[index+jndex] += ivalue*jvalue\n",
    "\n",
    "        new_coefs = list(coeffs.values())\n",
    "        try:\n",
    "            while new_coefs[-1] == 0:\n",
    "                new_coefs.pop()\n",
    "            return Polynomial(*new_coefs) \n",
    "        except:\n",
    "            return Polynomial(0) \n",
    "\n",
    "       \n",
    "    def fast_multiply(self, other): \n",
    "        \"\"\"\n",
    "        Uses FFT multiplication under the hood\n",
    "        \"\"\"\n",
    "        def FFT(A):\n",
    "            N = len(A)\n",
    "            if len(A) <= 1:\n",
    "                return [sum(A)]\n",
    "\n",
    "            part1 = FFT(A[0::2])\n",
    "            part2 = FFT(A[1::2])\n",
    "            T = [exp(-2j*pi*k/N)*part2[k] for k in range(N//2)]\n",
    "            return [part1[k] + T[k] for k in range(N//2)] + [part1[k] - T[k] for k in range(N//2)]\n",
    "        \n",
    "\n",
    "        A = self.coefficients\n",
    "        B = other.coefficients\n",
    "        n = 2**(len(A)+len(B)-2).bit_length()\n",
    "\n",
    "        while len(A) < n: A.append(0)\n",
    "        while len(B) < n: B.append(0)\n",
    "\n",
    "        AT = FFT(A)\n",
    "        BT = FFT(B)\n",
    "        C = [AT[i]*BT[i] for i in range(len(AT))]\n",
    "        new_C =[i.imag+1j*i.real for i in C]\n",
    "\n",
    "        D = [round(a.imag/len(C)) for a in FFT(new_C)]\n",
    "        while len(D)>1 and D[-1] == 0: D.pop()\n",
    "        return Polynomial(*D)    \n",
    "    \n",
    "    def power(self, n):\n",
    "        \"\"\"\n",
    "        Uses regular multiplication under the hood\n",
    "        \"\"\"\n",
    "        if n < 0: \n",
    "            raise ValueError('Cannot perform a negative degree power')\n",
    "        result, i  = Polynomial(1), 0\n",
    "        while i < n:\n",
    "            result =self*result\n",
    "            i += 1\n",
    "        return result\n",
    "    \n",
    "    def fast_power(self, n):\n",
    "        if n < 0: \n",
    "            raise ValueError('Cannot perform a negative degree power')\n",
    "        result, i  = Polynomial(1), 0\n",
    "        while i < n:\n",
    "            result = self.fast_multiply(result) \n",
    "            i += 1\n",
    "        return result        \n",
    "       \n",
    "    @property    \n",
    "    def derivative(self):                        \n",
    "        new_coeffs = [self.coefficients[i+1]*(i+1) for i in range(len(self.coefficients[1:]))]        \n",
    "        return Polynomial(*new_coeffs)            \n",
    "    \n",
    "    @property\n",
    "    def integrate(self):                \n",
    "        new_coeffs = [self.coefficients[i]/(i+1) for i in range(len(self.coefficients))]\n",
    "        new_coeffs.insert(0, 0)    \n",
    "        return Polynomial(*new_coeffs)            \n",
    "               \n",
    "    def divide(self, other):\n",
    "        while other.coefficients[-1] == 0:\n",
    "            other.coefficients.pop()            \n",
    "        first_coef = other.coefficients[-1]\n",
    "        \n",
    "        result = self.coefficients[::-1]        \n",
    "        for i in range(self.degree - other.degree + 1):\n",
    "            result[i] /= first_coef                                      \n",
    "            new_coef = result[i]\n",
    "            if new_coef != 0: \n",
    "                for j in range(1, len(other.coefficients)):                      \n",
    "                    result[i + j] -= new_coef * other.coefficients[other.degree - j - 1]\n",
    "        rem, res = Polynomial(*result[::-1][other.degree - 1:]), Polynomial(*result[::-1][:other.degree - 1])  \n",
    "        return rem, res\n",
    "    \n",
    "    \n",
    "    def __call__(self, x):    \n",
    "        res = 0\n",
    "        for index, coeff in enumerate(self.coefficients):\n",
    "            res += coeff * x**index\n",
    "        return res         \n",
    "    \n",
    "    def __repr__(self):\n",
    "        \"\"\"\n",
    "        Method to return the canonical string representation \n",
    "        of a polynomial.\n",
    "        \"\"\" \n",
    "        interm = \"+\".join([f\"{value}*x^{i}\" for i, value in  enumerate(self.coefficients) if value != 0])\n",
    "        interm = \"+\".join(interm.split('+')[::-1])\n",
    "        return  interm.replace(\"+-\",'-').replace(\"*x^0\",'')"
   ]
  },
  {
   "cell_type": "code",
   "execution_count": 9,
   "metadata": {},
   "outputs": [],
   "source": [
    "a = Polynomial(1,4,6,-7,-0,-9,0,9)\n",
    "b = Polynomial(1,1,0,5,0,2,0,1)\n",
    "rs = a.divide(b)\n",
    "assert rs[0]*b + rs[1] == a"
   ]
  },
  {
   "cell_type": "code",
   "execution_count": 10,
   "metadata": {},
   "outputs": [],
   "source": [
    "a = Polynomial(1,4,6,8, 32,231,13,211,221)\n",
    "b = Polynomial(1,4,6,8,31,13,211)\n",
    "rs = a.divide(b)\n",
    "assert rs[0]*b + rs[1] == a"
   ]
  },
  {
   "cell_type": "code",
   "execution_count": 11,
   "metadata": {},
   "outputs": [],
   "source": [
    "assert a.fast_power(5) == a.power(5)"
   ]
  },
  {
   "cell_type": "code",
   "execution_count": 12,
   "metadata": {},
   "outputs": [],
   "source": [
    "assert a*b == a.fast_multiply(b)"
   ]
  },
  {
   "cell_type": "code",
   "execution_count": 13,
   "metadata": {},
   "outputs": [
    {
     "data": {
      "text/plain": [
       "(9*x^8-9*x^6-70*x^4+16*x^3+40*x^1-4,\n",
       " 1.0*x^9-1.2857142857142858*x^7-14.0*x^5+4.0*x^4+20.0*x^2-4.0*x^1,\n",
       " 72*x^7-54*x^5-280*x^3+48*x^2+40,\n",
       " 890316396)"
      ]
     },
     "execution_count": 13,
     "metadata": {},
     "output_type": "execute_result"
    }
   ],
   "source": [
    "a = Polynomial(-4,+40,0,16,-70,-0,-9,0,9)\n",
    "a, a.integrate, a.derivative, a(10)"
   ]
  },
  {
   "cell_type": "markdown",
   "metadata": {},
   "source": [
    "### Задача 3 [Аналог range] (0.05 балла)\n",
    "\n",
    "**Условие:**\n",
    "\n",
    "Реализуйте итератор с поведением, аналогичным range."
   ]
  },
  {
   "cell_type": "markdown",
   "metadata": {},
   "source": [
    "#https://late.am/post/2012/06/18/what-the-heck-is-an-xrange"
   ]
  },
  {
   "cell_type": "code",
   "execution_count": 14,
   "metadata": {},
   "outputs": [
    {
     "name": "stderr",
     "output_type": "stream",
     "text": [
      "/Users/ayunts/anaconda3/lib/python3.7/site-packages/ipykernel_launcher.py:2: DeprecationWarning: Using or importing the ABCs from 'collections' instead of from 'collections.abc' is deprecated, and in 3.8 it will stop working\n",
      "  \n"
     ]
    }
   ],
   "source": [
    "from math import ceil\n",
    "from collections import Sequence, Iterator"
   ]
  },
  {
   "cell_type": "code",
   "execution_count": 15,
   "metadata": {},
   "outputs": [
    {
     "name": "stdout",
     "output_type": "stream",
     "text": [
      "-10\n",
      "-8\n",
      "-6\n",
      "-4\n",
      "-2\n",
      "0\n",
      "2\n",
      "4\n",
      "6\n",
      "8\n"
     ]
    }
   ],
   "source": [
    "class custom_range:\n",
    "    def __init__(self, *args):\n",
    "        \n",
    "        if sum([isinstance(i, int) for i in args]) == len(args):\n",
    "            pass\n",
    "        else:\n",
    "            raise TypeError('integers are required')\n",
    "            \n",
    "        if len(args) == 1:\n",
    "            start, stop, step = 0, args[0], 1\n",
    "        elif len(args) == 2:\n",
    "            start, stop, step = args[0], args[1], 1\n",
    "        elif len(args) == 3:\n",
    "            start, stop, step = args\n",
    "        else:\n",
    "            raise TypeError('range requires 1-3 int arguments')\n",
    "\n",
    "        if step == 0:\n",
    "            raise ValueError('range step cannot be a zero')\n",
    "\n",
    "        self._start = start\n",
    "        self._stop = stop\n",
    "        self._step = step       \n",
    "        self.current = self._start\n",
    "\n",
    "    def __iter__(self):\n",
    "        return self\n",
    "\n",
    "    def __next__(self):\n",
    "        while (self._stop-self.current)*self._step > 0:\n",
    "            self.current += self._step\n",
    "            return self.current - self._step\n",
    "        raise StopIteration\n",
    "        \n",
    "            \n",
    "\n",
    "numbers = custom_range(-10, 10, 2)\n",
    "for i in numbers: \n",
    "    print(i)"
   ]
  },
  {
   "cell_type": "code",
   "execution_count": 16,
   "metadata": {},
   "outputs": [
    {
     "name": "stdout",
     "output_type": "stream",
     "text": [
      "-10\n",
      "-8\n",
      "-6\n",
      "-4\n",
      "-2\n",
      "0\n",
      "2\n",
      "4\n",
      "6\n",
      "8\n"
     ]
    }
   ],
   "source": [
    "for i in range(-10, 10, 2): print(i)"
   ]
  },
  {
   "cell_type": "markdown",
   "metadata": {},
   "source": [
    "### Задача 4 [Primary Key] (0.05 балла)\n",
    "\n",
    "**Условие:**\n",
    "\n",
    "С помощью механизма дескрипторов реализуйте Primary Key - свойства первичного ключа из PostgreSQL."
   ]
  },
  {
   "cell_type": "code",
   "execution_count": 17,
   "metadata": {},
   "outputs": [],
   "source": [
    "class PrimaryKey:\n",
    "    def __init__(self, name):\n",
    "        self.name  = name       \n",
    "    \n",
    "    def __get__(self,instance, owner):\n",
    "        return instance.__dict__[self.name]\n",
    "    \n",
    "    def __set__(self, instance, value):\n",
    "        if value in instance.already_taken:\n",
    "            raise ValueError('There is already such index in use')\n",
    "        elif not isinstance(value, (str,int)):\n",
    "            raise ValueError('Should be int or string')    \n",
    "        else:\n",
    "            instance.already_taken.add(value)\n",
    "            instance.__dict__[self.name] = value\n",
    "            \n",
    "    def __del__(self, instance, index):\n",
    "        instance.already_taken.remove(index)\n",
    "        del instance.rows[index]        \n",
    "        \n",
    "            \n",
    "class Table:\n",
    "    \"\"\"\n",
    "    Class for table entity - it has name, set of indexes and dict of rows.\n",
    "    \"\"\"\n",
    "    \n",
    "    index = PrimaryKey('index')\n",
    "    \n",
    "    def __init__(self, table_name):\n",
    "        self.table_name = table_name\n",
    "        self.already_taken = set()        \n",
    "        self.rows = {}\n",
    "    \n",
    "    def add_row(self, index, data):\n",
    "        \"\"\"\n",
    "        Takes index and data as inputs, puts them in rows dict if index is free\n",
    "        \"\"\"\n",
    "        self.index = index\n",
    "        self.rows[index] = data\n",
    "    \n",
    "    def remove_row(self, index):        \n",
    "        \"\"\"\n",
    "        Removes the row with the given index.\n",
    "        \"\"\"\n",
    "        self.already_taken.remove(index)\n",
    "        del self.rows[index] \n",
    "    \n",
    "    def get_data(self):\n",
    "        return self.rows\n",
    "    \n",
    "    def get_table_name(self):\n",
    "        return self.table_name\n"
   ]
  },
  {
   "cell_type": "code",
   "execution_count": 18,
   "metadata": {},
   "outputs": [
    {
     "data": {
      "text/plain": [
       "({}, set())"
      ]
     },
     "execution_count": 18,
     "metadata": {},
     "output_type": "execute_result"
    }
   ],
   "source": [
    "a = Table('new_table')\n",
    "a.get_data() ,a.already_taken"
   ]
  },
  {
   "cell_type": "code",
   "execution_count": 19,
   "metadata": {},
   "outputs": [],
   "source": [
    "a.add_row('as', 'sd')\n",
    "a.add_row('asa', 'sd')"
   ]
  },
  {
   "cell_type": "code",
   "execution_count": 20,
   "metadata": {},
   "outputs": [
    {
     "data": {
      "text/plain": [
       "{'as', 'asa'}"
      ]
     },
     "execution_count": 20,
     "metadata": {},
     "output_type": "execute_result"
    }
   ],
   "source": [
    "a.already_taken"
   ]
  },
  {
   "cell_type": "code",
   "execution_count": 21,
   "metadata": {},
   "outputs": [
    {
     "data": {
      "text/plain": [
       "{'as': 'sd', 'asa': 'sd'}"
      ]
     },
     "execution_count": 21,
     "metadata": {},
     "output_type": "execute_result"
    }
   ],
   "source": [
    "a.get_data()"
   ]
  },
  {
   "cell_type": "code",
   "execution_count": 22,
   "metadata": {},
   "outputs": [
    {
     "ename": "ValueError",
     "evalue": "There is already such index in use",
     "output_type": "error",
     "traceback": [
      "\u001b[0;31m---------------------------------------------------------------------------\u001b[0m",
      "\u001b[0;31mValueError\u001b[0m                                Traceback (most recent call last)",
      "\u001b[0;32m<ipython-input-22-912a7e70da30>\u001b[0m in \u001b[0;36m<module>\u001b[0;34m\u001b[0m\n\u001b[0;32m----> 1\u001b[0;31m \u001b[0ma\u001b[0m\u001b[0;34m.\u001b[0m\u001b[0madd_row\u001b[0m\u001b[0;34m(\u001b[0m\u001b[0;34m'asa'\u001b[0m\u001b[0;34m,\u001b[0m \u001b[0;34m'sdd'\u001b[0m\u001b[0;34m)\u001b[0m\u001b[0;34m\u001b[0m\u001b[0;34m\u001b[0m\u001b[0m\n\u001b[0m",
      "\u001b[0;32m<ipython-input-17-40b39db912c5>\u001b[0m in \u001b[0;36madd_row\u001b[0;34m(self, index, data)\u001b[0m\n\u001b[1;32m     36\u001b[0m         \u001b[0mTakes\u001b[0m \u001b[0mindex\u001b[0m \u001b[0;32mand\u001b[0m \u001b[0mdata\u001b[0m \u001b[0;32mas\u001b[0m \u001b[0minputs\u001b[0m\u001b[0;34m,\u001b[0m \u001b[0mputs\u001b[0m \u001b[0mthem\u001b[0m \u001b[0;32min\u001b[0m \u001b[0mrows\u001b[0m \u001b[0mdict\u001b[0m \u001b[0;32mif\u001b[0m \u001b[0mindex\u001b[0m \u001b[0;32mis\u001b[0m \u001b[0mfree\u001b[0m\u001b[0;34m\u001b[0m\u001b[0;34m\u001b[0m\u001b[0m\n\u001b[1;32m     37\u001b[0m         \"\"\"\n\u001b[0;32m---> 38\u001b[0;31m         \u001b[0mself\u001b[0m\u001b[0;34m.\u001b[0m\u001b[0mindex\u001b[0m \u001b[0;34m=\u001b[0m \u001b[0mindex\u001b[0m\u001b[0;34m\u001b[0m\u001b[0;34m\u001b[0m\u001b[0m\n\u001b[0m\u001b[1;32m     39\u001b[0m         \u001b[0mself\u001b[0m\u001b[0;34m.\u001b[0m\u001b[0mrows\u001b[0m\u001b[0;34m[\u001b[0m\u001b[0mindex\u001b[0m\u001b[0;34m]\u001b[0m \u001b[0;34m=\u001b[0m \u001b[0mdata\u001b[0m\u001b[0;34m\u001b[0m\u001b[0;34m\u001b[0m\u001b[0m\n\u001b[1;32m     40\u001b[0m \u001b[0;34m\u001b[0m\u001b[0m\n",
      "\u001b[0;32m<ipython-input-17-40b39db912c5>\u001b[0m in \u001b[0;36m__set__\u001b[0;34m(self, instance, value)\u001b[0m\n\u001b[1;32m      8\u001b[0m     \u001b[0;32mdef\u001b[0m \u001b[0m__set__\u001b[0m\u001b[0;34m(\u001b[0m\u001b[0mself\u001b[0m\u001b[0;34m,\u001b[0m \u001b[0minstance\u001b[0m\u001b[0;34m,\u001b[0m \u001b[0mvalue\u001b[0m\u001b[0;34m)\u001b[0m\u001b[0;34m:\u001b[0m\u001b[0;34m\u001b[0m\u001b[0;34m\u001b[0m\u001b[0m\n\u001b[1;32m      9\u001b[0m         \u001b[0;32mif\u001b[0m \u001b[0mvalue\u001b[0m \u001b[0;32min\u001b[0m \u001b[0minstance\u001b[0m\u001b[0;34m.\u001b[0m\u001b[0malready_taken\u001b[0m\u001b[0;34m:\u001b[0m\u001b[0;34m\u001b[0m\u001b[0;34m\u001b[0m\u001b[0m\n\u001b[0;32m---> 10\u001b[0;31m             \u001b[0;32mraise\u001b[0m \u001b[0mValueError\u001b[0m\u001b[0;34m(\u001b[0m\u001b[0;34m'There is already such index in use'\u001b[0m\u001b[0;34m)\u001b[0m\u001b[0;34m\u001b[0m\u001b[0;34m\u001b[0m\u001b[0m\n\u001b[0m\u001b[1;32m     11\u001b[0m         \u001b[0;32melif\u001b[0m \u001b[0;32mnot\u001b[0m \u001b[0misinstance\u001b[0m\u001b[0;34m(\u001b[0m\u001b[0mvalue\u001b[0m\u001b[0;34m,\u001b[0m \u001b[0;34m(\u001b[0m\u001b[0mstr\u001b[0m\u001b[0;34m,\u001b[0m\u001b[0mint\u001b[0m\u001b[0;34m)\u001b[0m\u001b[0;34m)\u001b[0m\u001b[0;34m:\u001b[0m\u001b[0;34m\u001b[0m\u001b[0;34m\u001b[0m\u001b[0m\n\u001b[1;32m     12\u001b[0m             \u001b[0;32mraise\u001b[0m \u001b[0mValueError\u001b[0m\u001b[0;34m(\u001b[0m\u001b[0;34m'Should be int or string'\u001b[0m\u001b[0;34m)\u001b[0m\u001b[0;34m\u001b[0m\u001b[0;34m\u001b[0m\u001b[0m\n",
      "\u001b[0;31mValueError\u001b[0m: There is already such index in use"
     ]
    }
   ],
   "source": [
    "a.add_row('asa', 'sdd')"
   ]
  },
  {
   "cell_type": "code",
   "execution_count": 23,
   "metadata": {},
   "outputs": [
    {
     "data": {
      "text/plain": [
       "{'asa': 'sd'}"
      ]
     },
     "execution_count": 23,
     "metadata": {},
     "output_type": "execute_result"
    }
   ],
   "source": [
    "a.remove_row('as')\n",
    "a.get_data()"
   ]
  },
  {
   "cell_type": "code",
   "execution_count": 24,
   "metadata": {},
   "outputs": [],
   "source": [
    "a.add_row('as', 'sd')"
   ]
  },
  {
   "cell_type": "code",
   "execution_count": 25,
   "metadata": {},
   "outputs": [
    {
     "data": {
      "text/plain": [
       "{'asa': 'sd', 'as': 'sd'}"
      ]
     },
     "execution_count": 25,
     "metadata": {},
     "output_type": "execute_result"
    }
   ],
   "source": [
    " a.get_data()"
   ]
  },
  {
   "cell_type": "markdown",
   "metadata": {},
   "source": [
    "### Задача 5 [PositiveSmallIntegerField] (0.03 балла)\n",
    "\n",
    "**Условие:**\n",
    "\n",
    "С помощью механизма дескрипторов реализуйте тип данных PositiveSmallIntegerField - поле, принимающее значения от 0 до 32767."
   ]
  },
  {
   "cell_type": "code",
   "execution_count": 26,
   "metadata": {},
   "outputs": [],
   "source": [
    "class PositiveSmallIntegerField:\n",
    "    def __get__(self, instance, owner):\n",
    "        return instance.__dict__[self.name]\n",
    "    \n",
    "    def __set__(self, instance, value):\n",
    "        if value < 0 or  value > 32767:\n",
    "            raise ValueError('Should be between 0 and 32767')\n",
    "        instance.__dict__[self.name] = value\n",
    "    \n",
    "    def __set_name__(self, owner, name):\n",
    "        self.name = name\n",
    "\n",
    "class PositiveSmallInteger:\n",
    "    number = PositiveSmallIntegerField()\n",
    "\n",
    "    def __init__(self, number):\n",
    "        self.number = number\n",
    "    \n",
    "    def __add__(self, other):\n",
    "        if isinstance(other, PositiveSmallInteger):\n",
    "            return PositiveSmallInteger(self.number + other.number)\n",
    "        else: \n",
    "            raise ValueError('Both should be PositiveSmallInteger')\n",
    "                \n",
    "    def __str__(self):\n",
    "        return str(self.number)\n",
    "    \n",
    "    def __repr__(self):\n",
    "        return str(self.number)"
   ]
  },
  {
   "cell_type": "code",
   "execution_count": 27,
   "metadata": {},
   "outputs": [
    {
     "name": "stdout",
     "output_type": "stream",
     "text": [
      "10000 30000\n"
     ]
    }
   ],
   "source": [
    "x = PositiveSmallInteger(10000)\n",
    "y = PositiveSmallInteger(20000)\n",
    "\n",
    "print(x, x+y)"
   ]
  },
  {
   "cell_type": "code",
   "execution_count": 28,
   "metadata": {},
   "outputs": [
    {
     "ename": "ValueError",
     "evalue": "Should be between 0 and 32767",
     "output_type": "error",
     "traceback": [
      "\u001b[0;31m---------------------------------------------------------------------------\u001b[0m",
      "\u001b[0;31mValueError\u001b[0m                                Traceback (most recent call last)",
      "\u001b[0;32m<ipython-input-28-88ac07281be6>\u001b[0m in \u001b[0;36m<module>\u001b[0;34m\u001b[0m\n\u001b[0;32m----> 1\u001b[0;31m \u001b[0mPositiveSmallInteger\u001b[0m\u001b[0;34m(\u001b[0m\u001b[0;34m-\u001b[0m\u001b[0;36m23\u001b[0m\u001b[0;34m)\u001b[0m\u001b[0;34m\u001b[0m\u001b[0;34m\u001b[0m\u001b[0m\n\u001b[0m",
      "\u001b[0;32m<ipython-input-26-933388c53c6a>\u001b[0m in \u001b[0;36m__init__\u001b[0;34m(self, number)\u001b[0m\n\u001b[1;32m     15\u001b[0m \u001b[0;34m\u001b[0m\u001b[0m\n\u001b[1;32m     16\u001b[0m     \u001b[0;32mdef\u001b[0m \u001b[0m__init__\u001b[0m\u001b[0;34m(\u001b[0m\u001b[0mself\u001b[0m\u001b[0;34m,\u001b[0m \u001b[0mnumber\u001b[0m\u001b[0;34m)\u001b[0m\u001b[0;34m:\u001b[0m\u001b[0;34m\u001b[0m\u001b[0;34m\u001b[0m\u001b[0m\n\u001b[0;32m---> 17\u001b[0;31m         \u001b[0mself\u001b[0m\u001b[0;34m.\u001b[0m\u001b[0mnumber\u001b[0m \u001b[0;34m=\u001b[0m \u001b[0mnumber\u001b[0m\u001b[0;34m\u001b[0m\u001b[0;34m\u001b[0m\u001b[0m\n\u001b[0m\u001b[1;32m     18\u001b[0m \u001b[0;34m\u001b[0m\u001b[0m\n\u001b[1;32m     19\u001b[0m     \u001b[0;32mdef\u001b[0m \u001b[0m__add__\u001b[0m\u001b[0;34m(\u001b[0m\u001b[0mself\u001b[0m\u001b[0;34m,\u001b[0m \u001b[0mother\u001b[0m\u001b[0;34m)\u001b[0m\u001b[0;34m:\u001b[0m\u001b[0;34m\u001b[0m\u001b[0;34m\u001b[0m\u001b[0m\n",
      "\u001b[0;32m<ipython-input-26-933388c53c6a>\u001b[0m in \u001b[0;36m__set__\u001b[0;34m(self, instance, value)\u001b[0m\n\u001b[1;32m      5\u001b[0m     \u001b[0;32mdef\u001b[0m \u001b[0m__set__\u001b[0m\u001b[0;34m(\u001b[0m\u001b[0mself\u001b[0m\u001b[0;34m,\u001b[0m \u001b[0minstance\u001b[0m\u001b[0;34m,\u001b[0m \u001b[0mvalue\u001b[0m\u001b[0;34m)\u001b[0m\u001b[0;34m:\u001b[0m\u001b[0;34m\u001b[0m\u001b[0;34m\u001b[0m\u001b[0m\n\u001b[1;32m      6\u001b[0m         \u001b[0;32mif\u001b[0m \u001b[0mvalue\u001b[0m \u001b[0;34m<\u001b[0m \u001b[0;36m0\u001b[0m \u001b[0;32mor\u001b[0m  \u001b[0mvalue\u001b[0m \u001b[0;34m>\u001b[0m \u001b[0;36m32767\u001b[0m\u001b[0;34m:\u001b[0m\u001b[0;34m\u001b[0m\u001b[0;34m\u001b[0m\u001b[0m\n\u001b[0;32m----> 7\u001b[0;31m             \u001b[0;32mraise\u001b[0m \u001b[0mValueError\u001b[0m\u001b[0;34m(\u001b[0m\u001b[0;34m'Should be between 0 and 32767'\u001b[0m\u001b[0;34m)\u001b[0m\u001b[0;34m\u001b[0m\u001b[0;34m\u001b[0m\u001b[0m\n\u001b[0m\u001b[1;32m      8\u001b[0m         \u001b[0minstance\u001b[0m\u001b[0;34m.\u001b[0m\u001b[0m__dict__\u001b[0m\u001b[0;34m[\u001b[0m\u001b[0mself\u001b[0m\u001b[0;34m.\u001b[0m\u001b[0mname\u001b[0m\u001b[0;34m]\u001b[0m \u001b[0;34m=\u001b[0m \u001b[0mvalue\u001b[0m\u001b[0;34m\u001b[0m\u001b[0;34m\u001b[0m\u001b[0m\n\u001b[1;32m      9\u001b[0m \u001b[0;34m\u001b[0m\u001b[0m\n",
      "\u001b[0;31mValueError\u001b[0m: Should be between 0 and 32767"
     ]
    }
   ],
   "source": [
    "PositiveSmallInteger(-23)"
   ]
  },
  {
   "cell_type": "markdown",
   "metadata": {},
   "source": [
    "### Задача 6 [Timer] (0.02 балла)\n",
    "\n",
    "**Условие:**\n",
    "\n",
    "Реализовать контекстный менеджер, который выводит время, проведенное в нём."
   ]
  },
  {
   "cell_type": "markdown",
   "metadata": {},
   "source": [
    "Numpy здесь использую только для примера функции, которая будет выполняться внутри контекстного менеджера"
   ]
  },
  {
   "cell_type": "code",
   "execution_count": 29,
   "metadata": {},
   "outputs": [],
   "source": [
    "import numpy as np\n",
    "def fib(n):\n",
    "        '''\n",
    "        :param n: number of the Fibonacci number to return\n",
    "        :return:  n-th Fibonacci number\n",
    "        '''        \n",
    "        def pow(x, n):  \n",
    "            if n < 2: return x\n",
    "            else:\n",
    "                y = pow(x, n // 2)\n",
    "                y = y.dot(y)\n",
    "                if n % 2: y = x.dot(y)\n",
    "                return y\n",
    "        F = pow(np.matrix([[1,1],[1,0]], dtype=object), n)\n",
    "        return np.array(F).flatten()[1]"
   ]
  },
  {
   "cell_type": "code",
   "execution_count": 30,
   "metadata": {},
   "outputs": [
    {
     "name": "stdout",
     "output_type": "stream",
     "text": [
      "0.003 seconds\n"
     ]
    },
    {
     "data": {
      "text/plain": [
       "[1, 1, 1, 2, 3, 5, 8, 13, 21, 34]"
      ]
     },
     "execution_count": 30,
     "metadata": {},
     "output_type": "execute_result"
    }
   ],
   "source": [
    "from contextlib import contextmanager\n",
    "import time\n",
    "\n",
    "@contextmanager\n",
    "def timing():\n",
    "    \"\"\"\n",
    "    Returns time in seconds which operation took to execute\n",
    "    \"\"\"\n",
    "    start_time = time.time()\n",
    "    yield\n",
    "    print(f\"{time.time() - start_time:.3f} seconds\")\n",
    "\n",
    "\n",
    "with timing():\n",
    "    x = [fib(i) for i in range(100)]\n",
    "x[:10]"
   ]
  },
  {
   "cell_type": "code",
   "execution_count": null,
   "metadata": {},
   "outputs": [],
   "source": []
  },
  {
   "cell_type": "code",
   "execution_count": null,
   "metadata": {},
   "outputs": [],
   "source": []
  },
  {
   "cell_type": "code",
   "execution_count": null,
   "metadata": {},
   "outputs": [],
   "source": []
  }
 ],
 "metadata": {
  "kernelspec": {
   "display_name": "Python 3",
   "language": "python",
   "name": "python3"
  },
  "language_info": {
   "codemirror_mode": {
    "name": "ipython",
    "version": 3
   },
   "file_extension": ".py",
   "mimetype": "text/x-python",
   "name": "python",
   "nbconvert_exporter": "python",
   "pygments_lexer": "ipython3",
   "version": "3.7.3"
  }
 },
 "nbformat": 4,
 "nbformat_minor": 2
}
